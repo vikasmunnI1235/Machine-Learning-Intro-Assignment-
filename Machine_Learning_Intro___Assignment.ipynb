{
  "nbformat": 4,
  "nbformat_minor": 0,
  "metadata": {
    "colab": {
      "provenance": []
    },
    "kernelspec": {
      "name": "python3",
      "display_name": "Python 3"
    },
    "language_info": {
      "name": "python"
    }
  },
  "cells": [
    {
      "cell_type": "markdown",
      "source": [
        "Question 1: Explain the differences between AI, ML, Deep Learning (DL), and Data\n",
        "Science (DS).\n",
        "ANS\n",
        "Here’s the short version 👇\n",
        "\n",
        "AI (Artificial Intelligence): Broad field of making machines act smart like humans.\n",
        "\n",
        "ML (Machine Learning): Subset of AI, machines learn from data to improve automatically.\n",
        "\n",
        "DL (Deep Learning): Subset of ML, uses deep neural networks for complex/unstructured data (images, text, speech).\n",
        "\n",
        "DS (Data Science): Uses statistics, ML/DL, and domain knowledge to extract insights and solve business problems.\n",
        "\n",
        "Simple chain: AI ⊃ ML ⊃ DL | DS = Insights from data (using AI/ML/DL + stats)"
      ],
      "metadata": {
        "id": "lbE1KD6xpXZ_"
      }
    },
    {
      "cell_type": "markdown",
      "source": [
        "Question 2: What are the types of machine learning? Describe each with one\n",
        "real-world example.\n",
        "\n",
        "ANS\n",
        "1. Supervised Learning\n",
        "\n",
        "Definition: The model learns from labeled data (input + correct output given).\n",
        "\n",
        "Goal: Predict outcomes for new, unseen data.\n",
        "\n",
        "Example: Predicting house prices based on size, location, and features.\n",
        "\n",
        "2. Unsupervised Learning\n",
        "\n",
        "Definition: The model learns from unlabeled data (only input, no output).\n",
        "\n",
        "Goal: Find patterns, clusters, or hidden structures.\n",
        "\n",
        "Example: Customer segmentation in marketing (grouping customers by buying behavior).\n",
        "\n",
        "3. Reinforcement Learning\n",
        "\n",
        "Definition: The model learns by interacting with an environment and receiving rewards or penalties.\n",
        "\n",
        "Goal: Learn the best strategy (policy) to maximize reward.\n",
        "\n",
        "Example: Self-driving cars learning to drive safely by trial and error.\n"
      ],
      "metadata": {
        "id": "0icQet9ipr63"
      }
    },
    {
      "cell_type": "markdown",
      "source": [
        "Question 3: Define overfitting, underfitting, and the bias-variance tradeoff in machine\n",
        "learning\n",
        "ANS\n",
        "1. Overfitting\n",
        "\n",
        "Definition: Model learns the training data too well, including noise and details → performs well on training data but poorly on new/unseen data.\n",
        "\n",
        "Example: A student memorizes answers without understanding concepts → scores high in practice but low in exam.\n",
        "\n",
        "2. Underfitting\n",
        "\n",
        "Definition: Model is too simple and fails to capture the underlying pattern → performs poorly on both training and test data.\n",
        "\n",
        "Example: A student doesn’t study enough → fails practice tests and exams.\n",
        "\n",
        "3. Bias-Variance Tradeoff\n",
        "\n",
        "Bias: Error due to simplifying assumptions (model too simple → underfitting).\n",
        "\n",
        "Variance: Error due to too much sensitivity to training data (model too complex → overfitting).\n",
        "\n",
        "Tradeoff: We need a balance → not too simple (high bias), not too complex (high variance).\n",
        "\n",
        "Goal: Minimize total error by finding the “sweet spot.”"
      ],
      "metadata": {
        "id": "Lvy6QjGFp4zp"
      }
    },
    {
      "cell_type": "markdown",
      "source": [
        "Question 4: What are outliers in a dataset, and list three common techniques for\n",
        "handling them.\n",
        "\n",
        "ANS\n",
        "Techniques to Handle Outliers\n",
        "\n",
        "Removal (Delete Outliers)\n",
        "\n",
        "Remove extreme values if they are due to data entry errors or irrelevant.\n",
        "\n",
        "Example: Dropping a height entry of 500 cm in a dataset.\n",
        "\n",
        "Transformation\n",
        "\n",
        "Apply log, square root, or normalization to reduce the effect of extreme values.\n",
        "\n",
        "Example: Applying log transformation to income data.\n",
        "\n",
        "Capping / Winsorization\n",
        "\n",
        "Replace outliers with nearest valid values (e.g., set values above 95th percentile = 95th percentile).\n",
        "\n",
        "Example: Capping extreme salaries to reduce skewness."
      ],
      "metadata": {
        "id": "O64U8QeUqF9F"
      }
    },
    {
      "cell_type": "markdown",
      "source": [
        "Question 5: Explain the process of handling missing values and mention one\n",
        "imputation technique for numerical and one for categorical data.\n",
        "\n",
        "ANS\n",
        "Identify Missing Data\n",
        "\n",
        "Use methods like .isnull() in Python (Pandas) to check missing values.\n",
        "\n",
        "Analyze the Pattern\n",
        "\n",
        "Is data missing randomly or due to some reason?\n",
        "\n",
        "Decide on Strategy\n",
        "\n",
        "Remove rows/columns (if too many missing).\n",
        "\n",
        "Impute (fill) missing values with reasonable estimates.\n",
        "\n",
        "Imputation Techniques\n",
        "\n",
        "For Numerical Data:\n",
        "👉 Use Mean / Median Imputation\n",
        "\n",
        "Example: If age is missing, replace with the median age of the dataset.\n",
        "\n",
        "For Categorical Data:\n",
        "👉 Use Mode Imputation\n",
        "\n",
        "Example: If \"Gender\" is missing, replace with the most frequent category (e.g., \"Male\")."
      ],
      "metadata": {
        "id": "hUUgPoYPqLEc"
      }
    },
    {
      "cell_type": "markdown",
      "source": [
        "Question 6: Write a Python program that:\n",
        "● Creates a synthetic imbalanced dataset with make_classification() from\n",
        "sklearn.datasets.\n",
        "● Prints the class distribution"
      ],
      "metadata": {
        "id": "I9Mm7s_FqdkO"
      }
    },
    {
      "cell_type": "code",
      "source": [
        "from sklearn.datasets import make_classification\n",
        "from collections import Counter\n",
        "\n",
        "# Create synthetic imbalanced dataset\n",
        "X, y = make_classification(\n",
        "    n_samples=1000,        # total samples\n",
        "    n_features=10,         # number of features\n",
        "    n_classes=2,           # binary classification\n",
        "    weights=[0.9, 0.1],    # imbalance ratio (90% vs 10%)\n",
        "    random_state=42\n",
        ")\n",
        "\n",
        "# Print class distribution\n",
        "print(\"Class distribution:\", Counter(y))\n"
      ],
      "metadata": {
        "colab": {
          "base_uri": "https://localhost:8080/"
        },
        "id": "JE-dBrGlqgvt",
        "outputId": "c582d359-34d0-4325-aca4-d1358c8d6bf6"
      },
      "execution_count": 1,
      "outputs": [
        {
          "output_type": "stream",
          "name": "stdout",
          "text": [
            "Class distribution: Counter({np.int64(0): 897, np.int64(1): 103})\n"
          ]
        }
      ]
    },
    {
      "cell_type": "markdown",
      "source": [
        "Question 7: Implement one-hot encoding using pandas for the following list of colors:\n",
        "['Red', 'Green', 'Blue', 'Green', 'Red']. Print the resulting dataframe"
      ],
      "metadata": {
        "id": "H4ir4RYxqoEG"
      }
    },
    {
      "cell_type": "code",
      "source": [
        "import pandas as pd\n",
        "\n",
        "# List of colors\n",
        "colors = ['Red', 'Green', 'Blue', 'Green', 'Red']\n",
        "\n",
        "# Create DataFrame\n",
        "df = pd.DataFrame({'Color': colors})\n",
        "\n",
        "# One-hot encoding\n",
        "one_hot = pd.get_dummies(df['Color'])\n",
        "\n",
        "# Combine original with encoded\n",
        "result = pd.concat([df, one_hot], axis=1)\n",
        "\n",
        "# Print result\n",
        "print(result)\n"
      ],
      "metadata": {
        "colab": {
          "base_uri": "https://localhost:8080/"
        },
        "id": "TnwW5xw2qsEW",
        "outputId": "c7800ad4-e4b1-4051-9cca-854ffe51638e"
      },
      "execution_count": 2,
      "outputs": [
        {
          "output_type": "stream",
          "name": "stdout",
          "text": [
            "   Color   Blue  Green    Red\n",
            "0    Red  False  False   True\n",
            "1  Green  False   True  False\n",
            "2   Blue   True  False  False\n",
            "3  Green  False   True  False\n",
            "4    Red  False  False   True\n"
          ]
        }
      ]
    },
    {
      "cell_type": "markdown",
      "source": [
        "Question 8: Write a Python script to:\n",
        "● Generate 1000 samples from a normal distribution.\n",
        "● Introduce 50 random missing values.\n",
        "● Fill missing values with the column mean.\n",
        "● Plot a histogram before and after imputation"
      ],
      "metadata": {
        "id": "fR5VCFfKqy6W"
      }
    },
    {
      "cell_type": "code",
      "source": [
        "import numpy as np\n",
        "import pandas as pd\n",
        "import matplotlib.pyplot as plt\n",
        "\n",
        "# Step 1: Generate 1000 samples from normal distribution\n",
        "np.random.seed(42)\n",
        "data = np.random.normal(loc=50, scale=10, size=1000)  # mean=50, std=10\n",
        "\n",
        "# Step 2: Introduce 50 random missing values\n",
        "missing_indices = np.random.choice(1000, 50, replace=False)\n",
        "data[missing_indices] = np.nan\n",
        "\n",
        "# Create DataFrame\n",
        "df = pd.DataFrame({'Value': data})\n",
        "\n",
        "# Plot histogram BEFORE imputation\n",
        "plt.figure(figsize=(12,5))\n",
        "plt.subplot(1,2,1)\n",
        "plt.hist(df['Value'].dropna(), bins=30, color='skyblue', edgecolor='black')\n",
        "plt.title('Before Imputation')\n",
        "plt.xlabel('Value')\n",
        "plt.ylabel('Frequency')\n",
        "\n",
        "# Step 3: Fill missing values with column mean\n",
        "df['Value'].fillna(df['Value'].mean(), inplace=True)\n",
        "\n",
        "# Plot histogram AFTER imputation\n",
        "plt.subplot(1,2,2)\n",
        "plt.hist(df['Value'], bins=30, color='lightgreen', edgecolor='black')\n",
        "plt.title('After Imputation')\n",
        "plt.xlabel('Value')\n",
        "plt.ylabel('Frequency')\n",
        "\n",
        "plt.tight_layout()\n",
        "plt.show()\n"
      ],
      "metadata": {
        "colab": {
          "base_uri": "https://localhost:8080/",
          "height": 636
        },
        "id": "V-rD-3JNq1St",
        "outputId": "4689864b-0fea-42eb-b29a-1ea09c0e1c2c"
      },
      "execution_count": 3,
      "outputs": [
        {
          "output_type": "stream",
          "name": "stderr",
          "text": [
            "/tmp/ipython-input-888682830.py:25: FutureWarning: A value is trying to be set on a copy of a DataFrame or Series through chained assignment using an inplace method.\n",
            "The behavior will change in pandas 3.0. This inplace method will never work because the intermediate object on which we are setting values always behaves as a copy.\n",
            "\n",
            "For example, when doing 'df[col].method(value, inplace=True)', try using 'df.method({col: value}, inplace=True)' or df[col] = df[col].method(value) instead, to perform the operation inplace on the original object.\n",
            "\n",
            "\n",
            "  df['Value'].fillna(df['Value'].mean(), inplace=True)\n"
          ]
        },
        {
          "output_type": "display_data",
          "data": {
            "text/plain": [
              "<Figure size 1200x500 with 2 Axes>"
            ],
            "image/png": "[encoded data removed]"
          },
          "metadata": {}
        }
      ]
    },
    {
      "cell_type": "markdown",
      "source": [
        "Question 9: Implement Min-Max scaling on the following list of numbers [2, 5, 10, 15,\n",
        "20] using sklearn.preprocessing.MinMaxScaler. Print the scaled array.\n"
      ],
      "metadata": {
        "id": "5PSAKfsFq_RN"
      }
    },
    {
      "cell_type": "code",
      "source": [
        "from sklearn.preprocessing import MinMaxScaler\n",
        "import numpy as np\n",
        "\n",
        "# Original data\n",
        "data = np.array([2, 5, 10, 15, 20]).reshape(-1, 1)  # reshape to 2D array\n",
        "\n",
        "# Initialize MinMaxScaler\n",
        "scaler = MinMaxScaler()\n",
        "\n",
        "# Fit and transform the data\n",
        "scaled_data = scaler.fit_transform(data)\n",
        "\n",
        "# Print scaled array\n",
        "print(scaled_data)\n"
      ],
      "metadata": {
        "colab": {
          "base_uri": "https://localhost:8080/"
        },
        "id": "ECjV2iX5rFLF",
        "outputId": "b9b489f1-f20e-461c-fc59-0c6ec6f4dbaa"
      },
      "execution_count": 4,
      "outputs": [
        {
          "output_type": "stream",
          "name": "stdout",
          "text": [
            "[[0.        ]\n",
            " [0.16666667]\n",
            " [0.44444444]\n",
            " [0.72222222]\n",
            " [1.        ]]\n"
          ]
        }
      ]
    },
    {
      "cell_type": "markdown",
      "source": [
        "Question 10: You are working as a data scientist for a retail company. You receive a customer\n",
        "transaction dataset that contains:\n",
        "● Missing ages,\n",
        "● Outliers in transaction amount,\n",
        "● A highly imbalanced target (fraud vs. non-fraud),\n",
        "● Categorical variables like payment method.\n",
        "Explain the step-by-step data preparation plan you’d follow before training a machine learning\n",
        "model. Include how you’d address missing data, outliers, imbalance, and encoding.\n",
        "\n",
        "ANS\n",
        "| Problem               | Solution                              |\n",
        "| --------------------- | ------------------------------------- |\n",
        "| Missing Ages          | Median imputation                     |\n",
        "| Outliers in Amount    | Cap or log-transform                  |\n",
        "| Imbalanced Target     | SMOTE / undersampling / class weights |\n",
        "| Categorical Variables | One-Hot Encoding / Ordinal Encoding   |\n",
        "| Scaling               | Min-Max or StandardScaler (if needed) |\n"
      ],
      "metadata": {
        "id": "NODZuitLrKrO"
      }
    }
  ]
}